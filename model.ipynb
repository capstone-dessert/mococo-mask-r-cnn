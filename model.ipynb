{
 "cells": [
  {
   "cell_type": "code",
   "id": "cfd50e9c-404a-4eb8-bb89-9932247e1ea4",
   "metadata": {
    "ExecuteTime": {
     "end_time": "2024-05-04T06:58:09.133031Z",
     "start_time": "2024-05-04T06:58:06.362450Z"
    }
   },
   "source": [
    "import torchvision\n",
    "from torchvision.models.detection import maskrcnn_resnet50_fpn\n",
    "from torchvision.models.detection.faster_rcnn import FastRCNNPredictor\n",
    "from torchvision.models.detection.mask_rcnn import MaskRCNNPredictor\n",
    "\n",
    "def get_model_instance_segmentation(num_classes):\n",
    "    # Load an instance segmentation model pre-trained on COCO\n",
    "    model = maskrcnn_resnet50_fpn(pretrained=True)\n",
    "\n",
    "    # Get the number of input features for the classifier\n",
    "    in_features = model.roi_heads.box_predictor.cls_score.in_features\n",
    "    \n",
    "    # Replace the pre-trained head with a new one\n",
    "    model.roi_heads.box_predictor = FastRCNNPredictor(in_features, num_classes)\n",
    "\n",
    "    # Get the number of input features for the mask classifier\n",
    "    in_features_mask = model.roi_heads.mask_predictor.conv5_mask.in_channels\n",
    "    hidden_layer = 256\n",
    "    \n",
    "    # Replace the mask predictor with a new one\n",
    "    model.roi_heads.mask_predictor = MaskRCNNPredictor(in_features_mask,\n",
    "                                                       hidden_layer,\n",
    "                                                       num_classes)\n",
    "\n",
    "    return model\n",
    "\n",
    "num_classes = 26  # 1 class (background) + 25 classes\n",
    "model = get_model_instance_segmentation(num_classes)\n"
   ],
   "outputs": [
    {
     "name": "stderr",
     "output_type": "stream",
     "text": [
      "C:\\Users\\geonu\\anaconda3\\envs\\K-Fashion3\\lib\\site-packages\\torchvision\\models\\_utils.py:208: UserWarning: The parameter 'pretrained' is deprecated since 0.13 and may be removed in the future, please use 'weights' instead.\n",
      "  warnings.warn(\n",
      "C:\\Users\\geonu\\anaconda3\\envs\\K-Fashion3\\lib\\site-packages\\torchvision\\models\\_utils.py:223: UserWarning: Arguments other than a weight enum or `None` for 'weights' are deprecated since 0.13 and may be removed in the future. The current behavior is equivalent to passing `weights=MaskRCNN_ResNet50_FPN_Weights.COCO_V1`. You can also use `weights=MaskRCNN_ResNet50_FPN_Weights.DEFAULT` to get the most up-to-date weights.\n",
      "  warnings.warn(msg)\n"
     ]
    }
   ],
   "execution_count": 1
  },
  {
   "cell_type": "code",
   "id": "47478a2d-637c-4b22-a34b-8fe6ba3d4d43",
   "metadata": {
    "ExecuteTime": {
     "end_time": "2024-05-04T06:58:09.149032Z",
     "start_time": "2024-05-04T06:58:09.134031Z"
    }
   },
   "source": [
    "from tqdm import tqdm\n",
    "\n",
    "def train_one_epoch(model, optimizer, data_loader, device, epoch):\n",
    "    model.train()\n",
    "    for images, targets, idxs in tqdm(data_loader):\n",
    "        images = list(image.to(device) for image in images)\n",
    "        targets = [{k: v.to(device) for k, v in t.items()} for t in targets]\n",
    "\n",
    "        loss_dict = model(images, targets)\n",
    "\n",
    "        losses = sum(loss for loss in loss_dict.values())\n",
    "\n",
    "        # Perform backpropagation\n",
    "        optimizer.zero_grad()\n",
    "        losses.backward()\n",
    "        optimizer.step()"
   ],
   "outputs": [],
   "execution_count": 2
  },
  {
   "cell_type": "code",
   "id": "efcd5cd5-d04c-4fa1-b4bb-76426b57e910",
   "metadata": {
    "ExecuteTime": {
     "end_time": "2024-05-04T06:58:09.624909Z",
     "start_time": "2024-05-04T06:58:09.150033Z"
    }
   },
   "source": [
    "import torch\n",
    "from sklearn.metrics import f1_score\n",
    "import numpy as np\n",
    "\n",
    "def box_iou(box1, box2):\n",
    "    \"\"\"Compute the intersection over union of two sets of boxes.\"\"\"\n",
    "    # Calculate the coordinates of the intersection rectangle\n",
    "    x_left = max(box1[0], box2[0])\n",
    "    y_top = max(box1[1], box2[1])\n",
    "    x_right = min(box1[2], box2[2])\n",
    "    y_bottom = min(box1[3], box2[3])\n",
    "\n",
    "    if x_right < x_left or y_bottom < y_top:\n",
    "        return 0.0\n",
    "    \n",
    "    # Calculate intersection area\n",
    "    intersection_area = (x_right - x_left) * (y_bottom - y_top)\n",
    "    \n",
    "    # Calculate the union area\n",
    "    box1_area = (box1[2] - box1[0]) * (box1[3] - box1[1])\n",
    "    box2_area = (box2[2] - box2[0]) * (box2[3] - box2[1])\n",
    "    union_area = box1_area + box2_area - intersection_area\n",
    "    \n",
    "    # Compute the IoU\n",
    "    iou = intersection_area / union_area\n",
    "    return iou\n",
    "\n",
    "def evaluate(model, data_loader, device):\n",
    "    model.eval()\n",
    "    true_labels = []\n",
    "    pred_labels = []\n",
    "    ious = []\n",
    "\n",
    "    with torch.no_grad():\n",
    "        for images, targets, idx in tqdm(data_loader):\n",
    "            images = list(img.to(device) for img in images)\n",
    "            outputs = model(images)\n",
    "\n",
    "            for target, output in zip(targets, outputs):\n",
    "                # Calculate IoUs and update true/predicted labels for F1-score\n",
    "                gt_boxes = target['boxes'].cpu().numpy()\n",
    "                gt_labels = target['labels'].cpu().numpy()\n",
    "                pred_boxes = output['boxes'].cpu().detach().numpy()\n",
    "                pred_scores = output['scores'].cpu().detach().numpy()\n",
    "                pred_class = output['labels'].cpu().detach().numpy()\n",
    "\n",
    "                for gt_box, gt_label in zip(gt_boxes, gt_labels):\n",
    "                    max_iou = 0\n",
    "                    selected_pred = None\n",
    "                    for pred_box, pred_label in zip(pred_boxes, pred_class):\n",
    "                        iou = box_iou(gt_box, pred_box)\n",
    "                        if iou > max_iou:\n",
    "                            max_iou = iou\n",
    "                            selected_pred = pred_label\n",
    "                    if max_iou >= 0.5:  # Considering an IoU threshold\n",
    "                        ious.append(max_iou)\n",
    "                        true_labels.append(gt_label)\n",
    "                        pred_labels.append(selected_pred)\n",
    "                    else:\n",
    "                        true_labels.append(gt_label)\n",
    "                        pred_labels.append(0)  # Assuming class 0 is background or no detection\n",
    "\n",
    "    # Compute the F1-score for classification\n",
    "    f1 = f1_score(true_labels, pred_labels, average='weighted')\n",
    "    mean_iou = np.mean(ious) if ious else 0\n",
    "    print(f\"Mean IoU: {mean_iou:.4f}, F1-Score: {f1:.4f}\")\n",
    "\n",
    "    return mean_iou, f1"
   ],
   "outputs": [],
   "execution_count": 3
  },
  {
   "cell_type": "code",
   "id": "67fcbaaf-cac7-4548-a277-d4611f57c2f4",
   "metadata": {
    "jupyter": {
     "is_executing": true
    },
    "ExecuteTime": {
     "start_time": "2024-05-04T06:58:09.625912Z"
    }
   },
   "source": [
    "from dataset import load_data\n",
    "\n",
    "train_loader = load_data(train=True, batch_size=2, num_workers=1)"
   ],
   "outputs": [
    {
     "name": "stderr",
     "output_type": "stream",
     "text": [
      "  0%|          | 4300/967806 [00:02<02:55, 5482.03it/s]"
     ]
    }
   ],
   "execution_count": null
  },
  {
   "cell_type": "code",
   "id": "b42cbf10-68c8-4d8f-9b07-e109620189d9",
   "metadata": {
    "jupyter": {
     "is_executing": true
    }
   },
   "source": [
    "valid_loader = load_data(train=False, batch_size=2, num_workers=1)"
   ],
   "outputs": [],
   "execution_count": null
  },
  {
   "cell_type": "code",
   "id": "7f4bcf26-a48d-4fcf-9d3e-50672d1c8c9a",
   "metadata": {
    "jupyter": {
     "is_executing": true
    }
   },
   "source": [
    "import torch.optim as optim\n",
    "\n",
    "# Create the optimizer\n",
    "optimizer = optim.SGD(model.parameters(), lr=0.005,\n",
    "                      momentum=0.9, weight_decay=0.0005)\n",
    "\n",
    "# StepLR scheduler example\n",
    "scheduler = optim.lr_scheduler.StepLR(optimizer, step_size=3, gamma=0.1)"
   ],
   "outputs": [],
   "execution_count": null
  },
  {
   "cell_type": "code",
   "id": "6f4f0657-63d8-4007-94db-8cd33e92f730",
   "metadata": {
    "jupyter": {
     "is_executing": true
    }
   },
   "source": [
    "from datetime import datetime\n",
    "\n",
    "def get_current_time():  \n",
    "    now = datetime.now()\n",
    "    date = str(now.date())\n",
    "    time = str(now.time()).split(\":\")\n",
    "    return date + \"-\" + \"\".join(time[:2])\n",
    "\n",
    "def save_model(epoch, model, optimizer, path=\"model.pth\"):\n",
    "    torch.save({\n",
    "        'epoch': epoch,\n",
    "        'model_state_dict': model.state_dict(),\n",
    "        'optimizer_state_dict': optimizer.state_dict()\n",
    "    }, path)"
   ],
   "outputs": [],
   "execution_count": null
  },
  {
   "cell_type": "code",
   "id": "33b17e14-858f-4878-8156-1166b44a6830",
   "metadata": {
    "jupyter": {
     "is_executing": true
    }
   },
   "source": [
    "import time\n",
    "\n",
    "device = torch.device('cuda') if torch.cuda.is_available() else torch.device('cpu')\n",
    "model.to(device)\n",
    "print(device)\n",
    "\n",
    "num_epochs = 10\n",
    "current = get_current_time()\n",
    "\n",
    "for epoch in range(1, num_epochs+1):\n",
    "    print(f\"epoch {epoch} - train\")\n",
    "    train_one_epoch(model, optimizer, train_loader, device, epoch)\n",
    "    scheduler.step()  # Update learning rate\n",
    "\n",
    "    print(f\"epoch {epoch} - evaluate\")\n",
    "    mean_iou, f1 = evaluate(model, valid_loader, device)\n",
    "    print(f\"Epoch {epoch} Evaluation - Mean IoU: {mean_iou:.4f}, F1-Score: {f1:.4f}\\n\")\n",
    "    \n",
    "    # Save model if performance improved\n",
    "    save_model(epoch, model, optimizer, path=f\"./save/{current}_model_epoch_{epoch}.pth\")"
   ],
   "outputs": [],
   "execution_count": null
  },
  {
   "cell_type": "code",
   "id": "46b2ee61-dccd-485f-a1ec-9d013405575d",
   "metadata": {
    "jupyter": {
     "is_executing": true
    }
   },
   "source": [],
   "outputs": [],
   "execution_count": null
  }
 ],
 "metadata": {
  "kernelspec": {
   "display_name": "Python 3 (ipykernel)",
   "language": "python",
   "name": "python3"
  },
  "language_info": {
   "codemirror_mode": {
    "name": "ipython",
    "version": 3
   },
   "file_extension": ".py",
   "mimetype": "text/x-python",
   "name": "python",
   "nbconvert_exporter": "python",
   "pygments_lexer": "ipython3",
   "version": "3.11.7"
  }
 },
 "nbformat": 4,
 "nbformat_minor": 5
}
